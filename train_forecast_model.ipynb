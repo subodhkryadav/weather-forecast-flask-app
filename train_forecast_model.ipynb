{
 "cells": [
  {
   "cell_type": "code",
   "execution_count": 5,
   "id": "b4be9c51-7488-495a-afc5-12e1eec20c78",
   "metadata": {},
   "outputs": [
    {
     "name": "stderr",
     "output_type": "stream",
     "text": [
      "13:01:21 - cmdstanpy - INFO - Chain [1] start processing\n",
      "13:01:21 - cmdstanpy - INFO - Chain [1] done processing\n"
     ]
    },
    {
     "name": "stdout",
     "output_type": "stream",
     "text": [
      "✅ Prophet model trained and saved as 'prophet_model.pkl'\n"
     ]
    }
   ],
   "source": [
    "# Step 1: Import libraries\n",
    "import pandas as pd\n",
    "from prophet import Prophet\n",
    "import pickle\n",
    "\n",
    "# Step 2: Load cleaned dataset\n",
    "df = pd.read_csv(\"C:\\\\Users\\\\subod\\\\OneDrive\\\\Desktop\\\\project\\\\data\\\\Cleaned_indian_weather_history.csv\")\n",
    "\n",
    "# Step 3: Filter data for a specific city (example: Delhi)\n",
    "city_df = df[df['city'].str.lower() == 'delhi']\n",
    "\n",
    "# Step 4: Prepare data for Prophet\n",
    "prophet_df = city_df[['date', 'temperature']]\n",
    "prophet_df = prophet_df.rename(columns={'date': 'ds', 'temperature': 'y'})\n",
    "\n",
    "# Step 5: Train the Prophet model\n",
    "model = Prophet()\n",
    "model.fit(prophet_df)\n",
    "\n",
    "# Step 6: Save model to .pkl file\n",
    "with open(\"model/prophet_model.pkl\", \"wb\") as f:\n",
    "    pickle.dump(model, f)\n",
    "\n",
    "print(\"✅ Prophet model trained and saved as 'prophet_model.pkl'\")"
   ]
  },
  {
   "cell_type": "code",
   "execution_count": null,
   "id": "19cec0da-fec8-423b-8ad0-01ec32cf185e",
   "metadata": {},
   "outputs": [],
   "source": []
  }
 ],
 "metadata": {
  "kernelspec": {
   "display_name": "Python 3 (ipykernel)",
   "language": "python",
   "name": "python3"
  },
  "language_info": {
   "codemirror_mode": {
    "name": "ipython",
    "version": 3
   },
   "file_extension": ".py",
   "mimetype": "text/x-python",
   "name": "python",
   "nbconvert_exporter": "python",
   "pygments_lexer": "ipython3",
   "version": "3.12.3"
  }
 },
 "nbformat": 4,
 "nbformat_minor": 5
}
